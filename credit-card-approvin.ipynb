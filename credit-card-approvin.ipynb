{
 "cells": [
  {
   "cell_type": "code",
   "execution_count": 1,
   "id": "fabfca9f",
   "metadata": {
    "_cell_guid": "b1076dfc-b9ad-4769-8c92-a6c4dae69d19",
    "_uuid": "8f2839f25d086af736a60e9eeb907d3b93b6e0e5",
    "execution": {
     "iopub.execute_input": "2023-01-10T00:50:42.753781Z",
     "iopub.status.busy": "2023-01-10T00:50:42.753089Z",
     "iopub.status.idle": "2023-01-10T00:50:47.093816Z",
     "shell.execute_reply": "2023-01-10T00:50:47.092368Z"
    },
    "papermill": {
     "duration": 4.351503,
     "end_time": "2023-01-10T00:50:47.097343",
     "exception": false,
     "start_time": "2023-01-10T00:50:42.745840",
     "status": "completed"
    },
    "tags": []
   },
   "outputs": [
    {
     "data": {
      "text/plain": [
       "ID                     438510\n",
       "CODE_GENDER                 2\n",
       "FLAG_OWN_CAR                2\n",
       "FLAG_OWN_REALTY             2\n",
       "CNT_CHILDREN               12\n",
       "AMT_INCOME_TOTAL          866\n",
       "NAME_INCOME_TYPE            5\n",
       "NAME_EDUCATION_TYPE         5\n",
       "NAME_FAMILY_STATUS          5\n",
       "NAME_HOUSING_TYPE           6\n",
       "DAYS_BIRTH              16379\n",
       "DAYS_EMPLOYED            9406\n",
       "FLAG_WORK_PHONE             2\n",
       "FLAG_PHONE                  2\n",
       "FLAG_EMAIL                  2\n",
       "OCCUPATION_TYPE            18\n",
       "CNT_FAM_MEMBERS            13\n",
       "dtype: int64"
      ]
     },
     "execution_count": 1,
     "metadata": {},
     "output_type": "execute_result"
    }
   ],
   "source": [
    "#importing stuff\n",
    "import numpy as np\n",
    "import pandas as pd\n",
    "import math\n",
    "from sklearn.linear_model import LogisticRegression\n",
    "from sklearn.model_selection import train_test_split \n",
    "from sklearn.metrics import recall_score\n",
    "from sklearn.ensemble import RandomForestClassifier\n",
    "from sklearn.svm import SVC\n",
    "import xgboost as xgb\n",
    "import optuna \n",
    "from optuna.samplers import TPESampler\n",
    "from sklearn.model_selection import cross_val_score \n",
    "import seaborn as sns\n",
    "import matplotlib.pyplot as plt\n",
    "sns.set()\n",
    "from sklearn.metrics import roc_curve, auc\n",
    "from sklearn.metrics import classification_report\n",
    "\n",
    "#fetching data\n",
    "data = pd.read_csv('../input/credit-card-approval-prediction/application_record.csv')\n",
    "values = pd.read_csv('../input/credit-card-approval-prediction/credit_record.csv')\n",
    "\n",
    "#cleaning usless features\n",
    "data = data.drop(columns=['FLAG_MOBIL'])\n",
    "data.nunique()\n"
   ]
  },
  {
   "cell_type": "markdown",
   "id": "d9a9759d",
   "metadata": {
    "papermill": {
     "duration": 0.003974,
     "end_time": "2023-01-10T00:50:47.106076",
     "exception": false,
     "start_time": "2023-01-10T00:50:47.102102",
     "status": "completed"
    },
    "tags": []
   },
   "source": [
    "# Data Transformation"
   ]
  },
  {
   "cell_type": "code",
   "execution_count": 2,
   "id": "be375a95",
   "metadata": {
    "execution": {
     "iopub.execute_input": "2023-01-10T00:50:47.116236Z",
     "iopub.status.busy": "2023-01-10T00:50:47.115841Z",
     "iopub.status.idle": "2023-01-10T00:50:48.104522Z",
     "shell.execute_reply": "2023-01-10T00:50:48.103373Z"
    },
    "papermill": {
     "duration": 0.996977,
     "end_time": "2023-01-10T00:50:48.107273",
     "exception": false,
     "start_time": "2023-01-10T00:50:47.110296",
     "status": "completed"
    },
    "tags": []
   },
   "outputs": [],
   "source": [
    "#Feature Engineering\n",
    "data['CODE_GENDER'].replace(['F','M'], [0,1],inplace=True)\n",
    "data['FLAG_OWN_CAR'].replace(['Y','N'], [1,0],inplace=True)\n",
    "data['FLAG_OWN_REALTY'].replace(['Y','N'], [1,0],inplace=True)\n",
    "data = pd.get_dummies(data, columns=\n",
    "               ['NAME_EDUCATION_TYPE', 'NAME_INCOME_TYPE', 'NAME_FAMILY_STATUS'\n",
    "               , 'NAME_HOUSING_TYPE', 'OCCUPATION_TYPE'])\n",
    "values = values[values.STATUS != 'X']"
   ]
  },
  {
   "cell_type": "code",
   "execution_count": 3,
   "id": "8ccbcd63",
   "metadata": {
    "execution": {
     "iopub.execute_input": "2023-01-10T00:50:48.117950Z",
     "iopub.status.busy": "2023-01-10T00:50:48.117325Z",
     "iopub.status.idle": "2023-01-10T00:50:48.610472Z",
     "shell.execute_reply": "2023-01-10T00:50:48.608702Z"
    },
    "papermill": {
     "duration": 0.501311,
     "end_time": "2023-01-10T00:50:48.613168",
     "exception": false,
     "start_time": "2023-01-10T00:50:48.111857",
     "status": "completed"
    },
    "tags": []
   },
   "outputs": [
    {
     "name": "stdout",
     "output_type": "stream",
     "text": [
      "0         1\n",
      "1         1\n",
      "2         1\n",
      "3         1\n",
      "4         1\n",
      "         ..\n",
      "631760    0\n",
      "631761    0\n",
      "631762    0\n",
      "631763    0\n",
      "631764    0\n",
      "Name: STATUS, Length: 631765, dtype: object\n"
     ]
    }
   ],
   "source": [
    "#creating true data set\n",
    "td = pd.merge(data, values, on=\"ID\")\n",
    "\n",
    "#classification set:\n",
    "td['STATUS'].replace(['C'], [1],inplace=True)\n",
    "class_data = td\n",
    "class_data.loc[class_data['STATUS'] != 1, 'STATUS'] = 0\n",
    "print(class_data['STATUS'])"
   ]
  },
  {
   "cell_type": "code",
   "execution_count": 4,
   "id": "28b9b50b",
   "metadata": {
    "execution": {
     "iopub.execute_input": "2023-01-10T00:50:48.623597Z",
     "iopub.status.busy": "2023-01-10T00:50:48.623005Z",
     "iopub.status.idle": "2023-01-10T00:50:49.145348Z",
     "shell.execute_reply": "2023-01-10T00:50:49.144085Z"
    },
    "papermill": {
     "duration": 0.530851,
     "end_time": "2023-01-10T00:50:49.148267",
     "exception": false,
     "start_time": "2023-01-10T00:50:48.617416",
     "status": "completed"
    },
    "tags": []
   },
   "outputs": [],
   "source": [
    "x_train, x_test, y_train, y_test = train_test_split(class_data.drop(columns = 'STATUS', axis =1), class_data['STATUS'].astype(int))"
   ]
  },
  {
   "cell_type": "markdown",
   "id": "1678ef78",
   "metadata": {
    "papermill": {
     "duration": 0.003824,
     "end_time": "2023-01-10T00:50:49.156435",
     "exception": false,
     "start_time": "2023-01-10T00:50:49.152611",
     "status": "completed"
    },
    "tags": []
   },
   "source": [
    "# Model Creation "
   ]
  },
  {
   "cell_type": "code",
   "execution_count": 5,
   "id": "3c42543d",
   "metadata": {
    "execution": {
     "iopub.execute_input": "2023-01-10T00:50:49.167098Z",
     "iopub.status.busy": "2023-01-10T00:50:49.166134Z",
     "iopub.status.idle": "2023-01-10T01:40:26.439801Z",
     "shell.execute_reply": "2023-01-10T01:40:26.438509Z"
    },
    "papermill": {
     "duration": 2977.286141,
     "end_time": "2023-01-10T01:40:26.446739",
     "exception": false,
     "start_time": "2023-01-10T00:50:49.160598",
     "status": "completed"
    },
    "tags": []
   },
   "outputs": [
    {
     "name": "stderr",
     "output_type": "stream",
     "text": [
      "\u001b[32m[I 2023-01-10 00:50:49,172]\u001b[0m A new study created in memory with name: rf_optimization\u001b[0m\n",
      "\u001b[32m[I 2023-01-10 00:55:50,572]\u001b[0m Trial 0 finished with value: 0.9301785671895356 and parameters: {'max_features': 'sqrt', 'min_samples_split': 5, 'min_samples_leaf': 1}. Best is trial 0 with value: 0.9301785671895356.\u001b[0m\n",
      "\u001b[32m[I 2023-01-10 01:00:51,732]\u001b[0m Trial 1 finished with value: 0.9301722392123178 and parameters: {'max_features': 'auto', 'min_samples_split': 5, 'min_samples_leaf': 1}. Best is trial 0 with value: 0.9301785671895356.\u001b[0m\n",
      "\u001b[32m[I 2023-01-10 01:05:53,470]\u001b[0m Trial 2 finished with value: 0.9388759094192831 and parameters: {'max_features': 'sqrt', 'min_samples_split': 2, 'min_samples_leaf': 1}. Best is trial 2 with value: 0.9388759094192831.\u001b[0m\n",
      "\u001b[32m[I 2023-01-10 01:10:46,887]\u001b[0m Trial 3 finished with value: 0.9308665867660884 and parameters: {'max_features': 'auto', 'min_samples_split': 5, 'min_samples_leaf': 1}. Best is trial 2 with value: 0.9388759094192831.\u001b[0m\n",
      "\u001b[32m[I 2023-01-10 01:15:40,319]\u001b[0m Trial 4 finished with value: 0.9201938317842966 and parameters: {'max_features': 'auto', 'min_samples_split': 2, 'min_samples_leaf': 2}. Best is trial 2 with value: 0.9388759094192831.\u001b[0m\n",
      "\u001b[32m[I 2023-01-10 01:20:38,696]\u001b[0m Trial 5 finished with value: 0.9303621840485901 and parameters: {'max_features': 'auto', 'min_samples_split': 5, 'min_samples_leaf': 1}. Best is trial 2 with value: 0.9388759094192831.\u001b[0m\n",
      "\u001b[32m[I 2023-01-10 01:25:33,927]\u001b[0m Trial 6 finished with value: 0.9296277311107571 and parameters: {'max_features': 'auto', 'min_samples_split': 5, 'min_samples_leaf': 1}. Best is trial 2 with value: 0.9388759094192831.\u001b[0m\n",
      "\u001b[32m[I 2023-01-10 01:30:37,794]\u001b[0m Trial 7 finished with value: 0.9393760966032347 and parameters: {'max_features': 'sqrt', 'min_samples_split': 2, 'min_samples_leaf': 1}. Best is trial 7 with value: 0.9393760966032347.\u001b[0m\n",
      "\u001b[32m[I 2023-01-10 01:35:28,541]\u001b[0m Trial 8 finished with value: 0.9203162377528761 and parameters: {'max_features': 'sqrt', 'min_samples_split': 2, 'min_samples_leaf': 2}. Best is trial 7 with value: 0.9393760966032347.\u001b[0m\n",
      "\u001b[32m[I 2023-01-10 01:40:26,434]\u001b[0m Trial 9 finished with value: 0.9298387837473495 and parameters: {'max_features': 'sqrt', 'min_samples_split': 5, 'min_samples_leaf': 1}. Best is trial 7 with value: 0.9393760966032347.\u001b[0m\n"
     ]
    }
   ],
   "source": [
    "def objective(trial):\n",
    "    # Define the search space\n",
    "    #n_estimators = trial.suggest_int('n_estimators', 100, 1000, 100)\n",
    "    max_features = trial.suggest_categorical('max_features', ['auto', 'sqrt'])\n",
    "    min_samples_split = trial.suggest_categorical('min_samples_split', [2, 5])\n",
    "    min_samples_leaf = trial.suggest_categorical('min_samples_leaf', [1, 2])\n",
    "    \n",
    "\n",
    "    model = RandomForestClassifier(#n_estimators = n_estimators,\n",
    "                                   max_features = max_features,\n",
    "                                   min_samples_split = min_samples_split,\n",
    "                                   min_samples_leaf = min_samples_leaf,\n",
    "                                   n_jobs=-1)\n",
    "    \n",
    "    score = cross_val_score(model, x_train, y_train, scoring=\"accuracy\").mean()\n",
    "\n",
    "    return score\n",
    "\n",
    "study = optuna.create_study(study_name=\"rf_optimization\",\n",
    "                            direction=\"maximize\",\n",
    "                            sampler=TPESampler())\n",
    "\n",
    "study.optimize(objective, n_trials=10)"
   ]
  },
  {
   "cell_type": "code",
   "execution_count": 6,
   "id": "75fbed7d",
   "metadata": {
    "execution": {
     "iopub.execute_input": "2023-01-10T01:40:26.458728Z",
     "iopub.status.busy": "2023-01-10T01:40:26.457854Z",
     "iopub.status.idle": "2023-01-10T01:40:26.465043Z",
     "shell.execute_reply": "2023-01-10T01:40:26.463907Z"
    },
    "papermill": {
     "duration": 0.01673,
     "end_time": "2023-01-10T01:40:26.468132",
     "exception": false,
     "start_time": "2023-01-10T01:40:26.451402",
     "status": "completed"
    },
    "tags": []
   },
   "outputs": [
    {
     "name": "stdout",
     "output_type": "stream",
     "text": [
      "0.9393760966032347\n",
      "{'max_features': 'sqrt', 'min_samples_split': 2, 'min_samples_leaf': 1}\n"
     ]
    }
   ],
   "source": [
    "print(study.best_value)\n",
    "print(study.best_params)"
   ]
  },
  {
   "cell_type": "code",
   "execution_count": 7,
   "id": "0a118806",
   "metadata": {
    "execution": {
     "iopub.execute_input": "2023-01-10T01:40:26.479528Z",
     "iopub.status.busy": "2023-01-10T01:40:26.479104Z",
     "iopub.status.idle": "2023-01-10T01:41:39.874918Z",
     "shell.execute_reply": "2023-01-10T01:41:39.873906Z"
    },
    "papermill": {
     "duration": 73.40486,
     "end_time": "2023-01-10T01:41:39.877870",
     "exception": false,
     "start_time": "2023-01-10T01:40:26.473010",
     "status": "completed"
    },
    "tags": []
   },
   "outputs": [],
   "source": [
    " model = RandomForestClassifier(max_features = 'auto',\n",
    "                                   min_samples_split = 2,\n",
    "                                   min_samples_leaf = 1,\n",
    "                                   n_jobs=-1)\n",
    "    \n",
    "model.fit(x_train, y_train)\n",
    "model.score(x_test, y_test)\n",
    "y_pred = model.predict(x_test)"
   ]
  },
  {
   "cell_type": "markdown",
   "id": "2bf2f620",
   "metadata": {
    "papermill": {
     "duration": 0.004621,
     "end_time": "2023-01-10T01:41:39.887899",
     "exception": false,
     "start_time": "2023-01-10T01:41:39.883278",
     "status": "completed"
    },
    "tags": []
   },
   "source": [
    "# Model Evaluation"
   ]
  },
  {
   "cell_type": "code",
   "execution_count": 8,
   "id": "582a7c39",
   "metadata": {
    "execution": {
     "iopub.execute_input": "2023-01-10T01:41:39.899753Z",
     "iopub.status.busy": "2023-01-10T01:41:39.899309Z",
     "iopub.status.idle": "2023-01-10T01:41:44.346753Z",
     "shell.execute_reply": "2023-01-10T01:41:44.345273Z"
    },
    "papermill": {
     "duration": 4.456759,
     "end_time": "2023-01-10T01:41:44.349435",
     "exception": false,
     "start_time": "2023-01-10T01:41:39.892676",
     "status": "completed"
    },
    "tags": []
   },
   "outputs": [
    {
     "name": "stdout",
     "output_type": "stream",
     "text": [
      "              precision    recall  f1-score   support\n",
      "\n",
      "           0       0.95      0.95      0.95     75770\n",
      "           1       0.95      0.95      0.95     82172\n",
      "\n",
      "    accuracy                           0.95    157942\n",
      "   macro avg       0.95      0.95      0.95    157942\n",
      "weighted avg       0.95      0.95      0.95    157942\n",
      "\n"
     ]
    },
    {
     "data": {
      "image/png": "[encoded data removed]",
      "text/plain": [
       "<Figure size 432x288 with 1 Axes>"
      ]
     },
     "metadata": {},
     "output_type": "display_data"
    }
   ],
   "source": [
    "#Model_Evaluation\n",
    "\n",
    "def plot_roc_auc(y_test, preds):\n",
    "    '''\n",
    "    Takes actual and predicted(probabilities) as input and plots the Receiver\n",
    "    Operating Characteristic (ROC) curve\n",
    "    '''\n",
    "    fpr, tpr, threshold = roc_curve(y_test, preds)\n",
    "    roc_auc = auc(fpr, tpr)\n",
    "    plt.title('Receiver Operating Characteristic')\n",
    "    plt.plot(fpr, tpr, 'b', label = 'AUC = %0.2f' % roc_auc)\n",
    "    plt.legend(loc = 'lower right')\n",
    "    plt.plot([0, 1], [0, 1],'r--')\n",
    "    plt.xlim([0, 1])\n",
    "    plt.ylim([0, 1])\n",
    "    plt.ylabel('True Positive Rate')\n",
    "    plt.xlabel('False Positive Rate')\n",
    "    plt.show()\n",
    "    \n",
    "    \n",
    "print(classification_report(y_test, y_pred))\n",
    "plot_roc_auc(y_test, model.predict_proba(x_test)[:,1])"
   ]
  },
  {
   "cell_type": "markdown",
   "id": "27436fb6",
   "metadata": {
    "papermill": {
     "duration": 0.005897,
     "end_time": "2023-01-10T01:41:44.361511",
     "exception": false,
     "start_time": "2023-01-10T01:41:44.355614",
     "status": "completed"
    },
    "tags": []
   },
   "source": [
    "# Deploying Model"
   ]
  },
  {
   "cell_type": "code",
   "execution_count": 9,
   "id": "e2ccfc16",
   "metadata": {
    "execution": {
     "iopub.execute_input": "2023-01-10T01:41:44.375390Z",
     "iopub.status.busy": "2023-01-10T01:41:44.374964Z",
     "iopub.status.idle": "2023-01-10T01:41:46.444021Z",
     "shell.execute_reply": "2023-01-10T01:41:46.442779Z"
    },
    "papermill": {
     "duration": 2.079446,
     "end_time": "2023-01-10T01:41:46.446884",
     "exception": false,
     "start_time": "2023-01-10T01:41:44.367438",
     "status": "completed"
    },
    "tags": []
   },
   "outputs": [],
   "source": [
    "import pickle\n",
    "\n",
    "pickle.dump(model, open('Credit_model.pkl', 'wb'))"
   ]
  }
 ],
 "metadata": {
  "kernelspec": {
   "display_name": "Python 3",
   "language": "python",
   "name": "python3"
  },
  "language_info": {
   "codemirror_mode": {
    "name": "ipython",
    "version": 3
   },
   "file_extension": ".py",
   "mimetype": "text/x-python",
   "name": "python",
   "nbconvert_exporter": "python",
   "pygments_lexer": "ipython3",
   "version": "3.7.12"
  },
  "papermill": {
   "default_parameters": {},
   "duration": 3075.651829,
   "end_time": "2023-01-10T01:41:49.280492",
   "environment_variables": {},
   "exception": null,
   "input_path": "__notebook__.ipynb",
   "output_path": "__notebook__.ipynb",
   "parameters": {},
   "start_time": "2023-01-10T00:50:33.628663",
   "version": "2.3.4"
  }
 },
 "nbformat": 4,
 "nbformat_minor": 5
}
